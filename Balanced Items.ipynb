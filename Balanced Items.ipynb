{
  "nbformat": 4,
  "nbformat_minor": 0,
  "metadata": {
    "colab": {
      "name": "Balanced.ipynb",
      "provenance": [],
      "authorship_tag": "ABX9TyN6tH7xspUlvs7w5XIelP7U",
      "include_colab_link": true
    },
    "kernelspec": {
      "name": "python3",
      "display_name": "Python 3"
    },
    "language_info": {
      "name": "python"
    }
  },
  "cells": [
    {
      "cell_type": "markdown",
      "metadata": {
        "id": "view-in-github",
        "colab_type": "text"
      },
      "source": [
        "<a href=\"https://colab.research.google.com/github/gilbertoolimpio/python-snippets/blob/main/Balanced%20Items.ipynb\" target=\"_parent\"><img src=\"https://colab.research.google.com/assets/colab-badge.svg\" alt=\"Open In Colab\"/></a>"
      ]
    },
    {
      "cell_type": "code",
      "execution_count": 3,
      "metadata": {
        "colab": {
          "base_uri": "https://localhost:8080/"
        },
        "id": "qUhpA6icwwoo",
        "outputId": "de55947b-dd36-43d7-cd6f-c2282f3fbd6d"
      },
      "outputs": [
        {
          "output_type": "stream",
          "name": "stdout",
          "text": [
            "[]{{{}}[]}({})\n",
            "True\n"
          ]
        }
      ],
      "source": [
        "open = ['(', '[', '{']\n",
        "close = [')', ']', '}']\n",
        "\n",
        "def balanced(entry: str):\n",
        "  stack = list()\n",
        "  for i in entry:\n",
        "    if i in open:\n",
        "      stack.append(i)\n",
        "    elif i in close:\n",
        "      stack.pop()\n",
        "    else:\n",
        "      return False;\n",
        "  \n",
        "  if len(stack) == 0:\n",
        "    return True\n",
        "  else:\n",
        "    return False\n",
        "\n",
        "entry = input().strip()\n",
        "\n",
        "print(balanced(entry))\n"
      ]
    },
    {
      "cell_type": "code",
      "source": [
        ""
      ],
      "metadata": {
        "id": "oCyM5uePyJhw"
      },
      "execution_count": null,
      "outputs": []
    },
    {
      "cell_type": "code",
      "source": [
        ""
      ],
      "metadata": {
        "id": "TUHy8MKux9bB"
      },
      "execution_count": null,
      "outputs": []
    },
    {
      "cell_type": "code",
      "source": [
        ""
      ],
      "metadata": {
        "id": "N5deZDj6x3xy"
      },
      "execution_count": null,
      "outputs": []
    }
  ]
}