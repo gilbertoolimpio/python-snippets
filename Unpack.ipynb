{
  "nbformat": 4,
  "nbformat_minor": 0,
  "metadata": {
    "colab": {
      "name": "Untitled9.ipynb",
      "provenance": [],
      "authorship_tag": "ABX9TyNxvJXd0/R0Ur3zIW1tfZcS",
      "include_colab_link": true
    },
    "kernelspec": {
      "name": "python3",
      "display_name": "Python 3"
    },
    "language_info": {
      "name": "python"
    }
  },
  "cells": [
    {
      "cell_type": "markdown",
      "metadata": {
        "id": "view-in-github",
        "colab_type": "text"
      },
      "source": [
        "<a href=\"https://colab.research.google.com/github/gilbertoolimpio/python-snippets/blob/main/Unpack.ipynb\" target=\"_parent\"><img src=\"https://colab.research.google.com/assets/colab-badge.svg\" alt=\"Open In Colab\"/></a>"
      ]
    },
    {
      "cell_type": "code",
      "execution_count": 1,
      "metadata": {
        "colab": {
          "base_uri": "https://localhost:8080/"
        },
        "id": "jCM0_0uCAwYe",
        "outputId": "e2e8ec8b-5a27-4429-8619-716ec4d4eda9"
      },
      "outputs": [
        {
          "output_type": "stream",
          "name": "stdout",
          "text": [
            "[1, 3]\n",
            "[3, 4]\n",
            "[6, 7]\n",
            "[8, 7]\n",
            "[9, 8]\n"
          ]
        }
      ],
      "source": [
        "def unpack(a):\n",
        "    if isinstance(a[0], int):\n",
        "        print(a)\n",
        "    else:\n",
        "        for i in range(len(a)):\n",
        "            extract_all(a[0])\n",
        "            a.pop(0)\n",
        "\n",
        "\n",
        "a = [[1,3], [[3,4], [6,7], [[8,7],[9,8]]]]\n",
        "\n",
        "unpack(a)"
      ]
    }
  ]
}
