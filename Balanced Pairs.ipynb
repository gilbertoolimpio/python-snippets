{
  "nbformat": 4,
  "nbformat_minor": 0,
  "metadata": {
    "colab": {
      "name": "Balanced.ipynb",
      "provenance": [],
      "authorship_tag": "ABX9TyOz/2B8/clpiXxFBql1Kp1y",
      "include_colab_link": true
    },
    "kernelspec": {
      "name": "python3",
      "display_name": "Python 3"
    },
    "language_info": {
      "name": "python"
    }
  },
  "cells": [
    {
      "cell_type": "markdown",
      "metadata": {
        "id": "view-in-github",
        "colab_type": "text"
      },
      "source": [
        "<a href=\"https://colab.research.google.com/github/gilbertoolimpio/python-snippets/blob/main/Balanced%20Pairs.ipynb\" target=\"_parent\"><img src=\"https://colab.research.google.com/assets/colab-badge.svg\" alt=\"Open In Colab\"/></a>"
      ]
    },
    {
      "cell_type": "code",
      "execution_count": 6,
      "metadata": {
        "colab": {
          "base_uri": "https://localhost:8080/"
        },
        "id": "qUhpA6icwwoo",
        "outputId": "aa7618d6-01c5-4cfd-c995-b14b5cec0b7c"
      },
      "outputs": [
        {
          "output_type": "stream",
          "name": "stdout",
          "text": [
            "][]\n",
            "False\n"
          ]
        }
      ],
      "source": [
        "open = ['(', '[', '{']\n",
        "close = [')', ']', '}']\n",
        "\n",
        "def balanced(entry: str):\n",
        "  stack = list()\n",
        "  for i in entry:\n",
        "    if i in open:\n",
        "      stack.append(i)\n",
        "    elif i in close and stack:\n",
        "      stack.pop()\n",
        "    else:\n",
        "      return False;\n",
        "  \n",
        "  if len(stack) == 0:\n",
        "    return True\n",
        "  else:\n",
        "    return False\n",
        "\n",
        "entry = input().strip()\n",
        "\n",
        "print(balanced(entry))\n"
      ]
    }
  ]
}